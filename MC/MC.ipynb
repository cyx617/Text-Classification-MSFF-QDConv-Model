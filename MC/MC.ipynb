{
 "cells": [
  {
   "cell_type": "markdown",
   "id": "ce8741d6-8589-4a32-be21-01fe14c8624c",
   "metadata": {},
   "source": [
    "# MSFF-QDConv"
   ]
  },
  {
   "cell_type": "code",
   "execution_count": 1,
   "id": "3a8ead75-c766-4d85-9520-cc9c2f91d952",
   "metadata": {
    "scrolled": true
   },
   "outputs": [
    {
     "name": "stdout",
     "output_type": "stream",
     "text": [
      "model name:  msff-qdconv\n",
      "Vocab size: 19\n",
      "Num of Qubits: 5\n",
      "Num Params: 19\n",
      "[Epoch : 1] Train Loss is : 0.6919326814, Train Acc is : 0.5857142857, Test Acc is : 0.5333333333, Elapse Time: 4.7202 s\n",
      "[Epoch : 2] Train Loss is : 0.6510077642, Train Acc is : 0.7857142857, Test Acc is : 0.8333333333, Elapse Time: 3.7685 s\n",
      "[Epoch : 3] Train Loss is : 0.6338061219, Train Acc is : 0.7857142857, Test Acc is : 0.8000000000, Elapse Time: 4.2740 s\n",
      "[Epoch : 4] Train Loss is : 0.6125238262, Train Acc is : 0.8142857143, Test Acc is : 0.8333333333, Elapse Time: 3.9131 s\n",
      "[Epoch : 5] Train Loss is : 0.6004940429, Train Acc is : 0.7714285714, Test Acc is : 0.6666666667, Elapse Time: 3.7401 s\n",
      "[Epoch : 6] Train Loss is : 0.5756835484, Train Acc is : 0.8428571429, Test Acc is : 0.8333333333, Elapse Time: 3.8660 s\n",
      "[Epoch : 7] Train Loss is : 0.5579063906, Train Acc is : 0.8857142857, Test Acc is : 0.8333333333, Elapse Time: 4.3126 s\n",
      "[Epoch : 8] Train Loss is : 0.5398144613, Train Acc is : 0.8714285714, Test Acc is : 0.9333333333, Elapse Time: 3.9639 s\n",
      "[Epoch : 9] Train Loss is : 0.5233642330, Train Acc is : 0.8714285714, Test Acc is : 0.9333333333, Elapse Time: 4.0034 s\n",
      "[Epoch : 10] Train Loss is : 0.5149776177, Train Acc is : 0.9142857143, Test Acc is : 0.9333333333, Elapse Time: 3.8890 s\n",
      "[Epoch : 11] Train Loss is : 0.5133633937, Train Acc is : 0.9142857143, Test Acc is : 0.9666666667, Elapse Time: 3.8735 s\n",
      "[Epoch : 12] Train Loss is : 0.5126777078, Train Acc is : 0.9285714286, Test Acc is : 0.9666666667, Elapse Time: 3.7777 s\n",
      "[Epoch : 13] Train Loss is : 0.5038780802, Train Acc is : 0.9285714286, Test Acc is : 1.0000000000, Elapse Time: 4.0136 s\n",
      "[Epoch : 14] Train Loss is : 0.5029261778, Train Acc is : 0.9142857143, Test Acc is : 0.9666666667, Elapse Time: 3.8939 s\n",
      "[Epoch : 15] Train Loss is : 0.4883893590, Train Acc is : 0.9142857143, Test Acc is : 1.0000000000, Elapse Time: 3.8631 s\n",
      "[Epoch : 16] Train Loss is : 0.4757448282, Train Acc is : 0.9142857143, Test Acc is : 0.9666666667, Elapse Time: 3.8306 s\n",
      "[Epoch : 17] Train Loss is : 0.4731032224, Train Acc is : 0.9285714286, Test Acc is : 1.0000000000, Elapse Time: 3.9546 s\n",
      "[Epoch : 18] Train Loss is : 0.4666480920, Train Acc is : 0.9285714286, Test Acc is : 1.0000000000, Elapse Time: 4.0011 s\n",
      "[Epoch : 19] Train Loss is : 0.4728148581, Train Acc is : 0.9142857143, Test Acc is : 1.0000000000, Elapse Time: 3.6262 s\n",
      "[Epoch : 20] Train Loss is : 0.4709657105, Train Acc is : 0.9285714286, Test Acc is : 1.0000000000, Elapse Time: 3.8484 s\n",
      "[Epoch : 21] Train Loss is : 0.4674683324, Train Acc is : 0.9142857143, Test Acc is : 1.0000000000, Elapse Time: 3.8931 s\n",
      "[Epoch : 22] Train Loss is : 0.4723378081, Train Acc is : 0.8857142857, Test Acc is : 0.9666666667, Elapse Time: 3.9768 s\n",
      "[Epoch : 23] Train Loss is : 0.4663549158, Train Acc is : 0.9285714286, Test Acc is : 1.0000000000, Elapse Time: 3.9058 s\n",
      "[Epoch : 24] Train Loss is : 0.4697519443, Train Acc is : 0.9285714286, Test Acc is : 1.0000000000, Elapse Time: 3.8457 s\n",
      "[Epoch : 25] Train Loss is : 0.4777088216, Train Acc is : 0.9000000000, Test Acc is : 0.9666666667, Elapse Time: 3.8121 s\n",
      "[Epoch : 26] Train Loss is : 0.4653840885, Train Acc is : 0.9285714286, Test Acc is : 1.0000000000, Elapse Time: 3.9334 s\n",
      "[Epoch : 27] Train Loss is : 0.4670083893, Train Acc is : 0.9285714286, Test Acc is : 1.0000000000, Elapse Time: 3.8317 s\n",
      "[Epoch : 28] Train Loss is : 0.4674846864, Train Acc is : 0.9285714286, Test Acc is : 1.0000000000, Elapse Time: 3.7555 s\n",
      "[Epoch : 29] Train Loss is : 0.4675586128, Train Acc is : 0.8857142857, Test Acc is : 0.9666666667, Elapse Time: 4.0419 s\n",
      "[Epoch : 30] Train Loss is : 0.4747534239, Train Acc is : 0.9285714286, Test Acc is : 1.0000000000, Elapse Time: 3.9625 s\n",
      "[Epoch : 31] Train Loss is : 0.4727324240, Train Acc is : 0.9142857143, Test Acc is : 1.0000000000, Elapse Time: 3.9511 s\n",
      "[Epoch : 32] Train Loss is : 0.4697214413, Train Acc is : 0.9285714286, Test Acc is : 1.0000000000, Elapse Time: 4.1007 s\n",
      "[Epoch : 33] Train Loss is : 0.4853087906, Train Acc is : 0.9285714286, Test Acc is : 1.0000000000, Elapse Time: 4.0361 s\n",
      "[Epoch : 34] Train Loss is : 0.4841405060, Train Acc is : 0.8571428571, Test Acc is : 0.9666666667, Elapse Time: 3.8360 s\n",
      "[Epoch : 35] Train Loss is : 0.4831204392, Train Acc is : 0.9142857143, Test Acc is : 1.0000000000, Elapse Time: 3.9245 s\n",
      "[Epoch : 36] Train Loss is : 0.4846187110, Train Acc is : 0.9000000000, Test Acc is : 0.9666666667, Elapse Time: 3.9175 s\n",
      "[Epoch : 37] Train Loss is : 0.4725989443, Train Acc is : 0.8857142857, Test Acc is : 1.0000000000, Elapse Time: 3.9993 s\n",
      "[Epoch : 38] Train Loss is : 0.4817664312, Train Acc is : 0.8857142857, Test Acc is : 1.0000000000, Elapse Time: 3.9951 s\n",
      "[Epoch : 39] Train Loss is : 0.4746102432, Train Acc is : 0.8857142857, Test Acc is : 0.9666666667, Elapse Time: 3.7860 s\n",
      "[Epoch : 40] Train Loss is : 0.4703697714, Train Acc is : 0.9142857143, Test Acc is : 1.0000000000, Elapse Time: 3.8458 s\n",
      "best test acc:  1.0\n"
     ]
    }
   ],
   "source": [
    "!python MC_q.py msff-qdconv"
   ]
  },
  {
   "cell_type": "markdown",
   "id": "fc7c38fa-75c2-4d68-9b29-629e26064fa6",
   "metadata": {},
   "source": [
    "# MSFF-QConv"
   ]
  },
  {
   "cell_type": "code",
   "execution_count": 2,
   "id": "e283fbf1-df3d-451f-9e44-4f56678d6745",
   "metadata": {
    "scrolled": true
   },
   "outputs": [
    {
     "name": "stdout",
     "output_type": "stream",
     "text": [
      "model name:  msff-qconv\n",
      "Vocab size: 19\n",
      "Num of Qubits: 5\n",
      "Num Params: 91\n",
      "[Epoch : 1] Train Loss is : 0.6657684047, Train Acc is : 0.5285714286, Test Acc is : 0.5333333333, Elapse Time: 54.9163 s\n",
      "[Epoch : 2] Train Loss is : 0.6279065253, Train Acc is : 0.5428571429, Test Acc is : 0.5333333333, Elapse Time: 54.1956 s\n",
      "[Epoch : 3] Train Loss is : 0.6036612009, Train Acc is : 0.7428571429, Test Acc is : 0.8000000000, Elapse Time: 54.0121 s\n",
      "[Epoch : 4] Train Loss is : 0.6227674879, Train Acc is : 0.5571428571, Test Acc is : 0.5333333333, Elapse Time: 53.7915 s\n",
      "[Epoch : 5] Train Loss is : 0.5982685482, Train Acc is : 0.7857142857, Test Acc is : 0.8000000000, Elapse Time: 53.7583 s\n",
      "[Epoch : 6] Train Loss is : 0.6131449165, Train Acc is : 0.7285714286, Test Acc is : 0.7000000000, Elapse Time: 53.6190 s\n",
      "[Epoch : 7] Train Loss is : 0.5794013604, Train Acc is : 0.8714285714, Test Acc is : 0.8666666667, Elapse Time: 53.7217 s\n",
      "[Epoch : 8] Train Loss is : 0.5689792111, Train Acc is : 0.7000000000, Test Acc is : 0.7333333333, Elapse Time: 53.6790 s\n",
      "[Epoch : 9] Train Loss is : 0.5471079322, Train Acc is : 0.8571428571, Test Acc is : 0.8000000000, Elapse Time: 54.3667 s\n",
      "[Epoch : 10] Train Loss is : 0.5430649504, Train Acc is : 0.7571428571, Test Acc is : 0.7666666667, Elapse Time: 59.7561 s\n",
      "[Epoch : 11] Train Loss is : 0.5268433821, Train Acc is : 0.8571428571, Test Acc is : 0.7666666667, Elapse Time: 59.9222 s\n",
      "[Epoch : 12] Train Loss is : 0.5058467614, Train Acc is : 0.7428571429, Test Acc is : 0.8333333333, Elapse Time: 60.0847 s\n",
      "[Epoch : 13] Train Loss is : 0.5444996619, Train Acc is : 0.8857142857, Test Acc is : 0.9000000000, Elapse Time: 59.9101 s\n",
      "[Epoch : 14] Train Loss is : 0.5380806015, Train Acc is : 0.8142857143, Test Acc is : 0.8333333333, Elapse Time: 54.4987 s\n",
      "[Epoch : 15] Train Loss is : 0.4962477529, Train Acc is : 0.8285714286, Test Acc is : 0.8666666667, Elapse Time: 53.6647 s\n",
      "[Epoch : 16] Train Loss is : 0.4996552739, Train Acc is : 0.8428571429, Test Acc is : 0.8333333333, Elapse Time: 53.7386 s\n",
      "[Epoch : 17] Train Loss is : 0.4987773454, Train Acc is : 0.8571428571, Test Acc is : 0.9000000000, Elapse Time: 53.8012 s\n",
      "[Epoch : 18] Train Loss is : 0.4892466181, Train Acc is : 0.9285714286, Test Acc is : 0.8666666667, Elapse Time: 53.7088 s\n",
      "[Epoch : 19] Train Loss is : 0.5073485417, Train Acc is : 0.9285714286, Test Acc is : 0.9000000000, Elapse Time: 55.4287 s\n",
      "[Epoch : 20] Train Loss is : 0.5014011368, Train Acc is : 0.8285714286, Test Acc is : 0.8000000000, Elapse Time: 53.9612 s\n",
      "[Epoch : 21] Train Loss is : 0.4864081100, Train Acc is : 0.9142857143, Test Acc is : 0.8666666667, Elapse Time: 53.7808 s\n",
      "[Epoch : 22] Train Loss is : 0.5138715886, Train Acc is : 0.8571428571, Test Acc is : 0.8666666667, Elapse Time: 54.7348 s\n",
      "[Epoch : 23] Train Loss is : 0.4985833254, Train Acc is : 0.9285714286, Test Acc is : 0.9000000000, Elapse Time: 54.6809 s\n",
      "[Epoch : 24] Train Loss is : 0.4941773518, Train Acc is : 0.8857142857, Test Acc is : 0.8000000000, Elapse Time: 53.6326 s\n",
      "[Epoch : 25] Train Loss is : 0.5127115305, Train Acc is : 0.8428571429, Test Acc is : 0.8666666667, Elapse Time: 54.2025 s\n",
      "[Epoch : 26] Train Loss is : 0.4978445323, Train Acc is : 0.8285714286, Test Acc is : 0.9000000000, Elapse Time: 54.4037 s\n",
      "[Epoch : 27] Train Loss is : 0.4788222597, Train Acc is : 0.9142857143, Test Acc is : 0.8333333333, Elapse Time: 54.2227 s\n",
      "[Epoch : 28] Train Loss is : 0.4995886821, Train Acc is : 0.9285714286, Test Acc is : 0.9000000000, Elapse Time: 53.7928 s\n",
      "[Epoch : 29] Train Loss is : 0.4774657428, Train Acc is : 0.8714285714, Test Acc is : 0.8333333333, Elapse Time: 54.3210 s\n",
      "[Epoch : 30] Train Loss is : 0.4775920033, Train Acc is : 0.8428571429, Test Acc is : 0.8666666667, Elapse Time: 54.1078 s\n",
      "[Epoch : 31] Train Loss is : 0.4727830620, Train Acc is : 0.9285714286, Test Acc is : 0.8000000000, Elapse Time: 54.0792 s\n",
      "[Epoch : 32] Train Loss is : 0.4727343920, Train Acc is : 0.8857142857, Test Acc is : 0.7666666667, Elapse Time: 53.8479 s\n",
      "[Epoch : 33] Train Loss is : 0.4879850297, Train Acc is : 0.6857142857, Test Acc is : 0.7333333333, Elapse Time: 54.0356 s\n",
      "[Epoch : 34] Train Loss is : 0.5131228132, Train Acc is : 0.5714285714, Test Acc is : 0.6000000000, Elapse Time: 53.8996 s\n",
      "[Epoch : 35] Train Loss is : 0.6380173740, Train Acc is : 0.8142857143, Test Acc is : 0.8000000000, Elapse Time: 54.2715 s\n",
      "[Epoch : 36] Train Loss is : 0.5786080186, Train Acc is : 0.8142857143, Test Acc is : 0.5333333333, Elapse Time: 53.6885 s\n",
      "[Epoch : 37] Train Loss is : 0.5220962657, Train Acc is : 0.8714285714, Test Acc is : 0.7000000000, Elapse Time: 53.8606 s\n",
      "[Epoch : 38] Train Loss is : 0.4681955464, Train Acc is : 0.7428571429, Test Acc is : 0.7666666667, Elapse Time: 53.6673 s\n",
      "[Epoch : 39] Train Loss is : 0.4904812863, Train Acc is : 0.9142857143, Test Acc is : 0.7000000000, Elapse Time: 53.5942 s\n",
      "[Epoch : 40] Train Loss is : 0.4665927701, Train Acc is : 0.9142857143, Test Acc is : 0.8333333333, Elapse Time: 54.6061 s\n",
      "best test acc:  0.9\n"
     ]
    }
   ],
   "source": [
    "!python MC_q.py msff-qconv"
   ]
  }
 ],
 "metadata": {
  "kernelspec": {
   "display_name": "Python 3 (ipykernel)",
   "language": "python",
   "name": "python3"
  },
  "language_info": {
   "codemirror_mode": {
    "name": "ipython",
    "version": 3
   },
   "file_extension": ".py",
   "mimetype": "text/x-python",
   "name": "python",
   "nbconvert_exporter": "python",
   "pygments_lexer": "ipython3",
   "version": "3.8.18"
  }
 },
 "nbformat": 4,
 "nbformat_minor": 5
}
